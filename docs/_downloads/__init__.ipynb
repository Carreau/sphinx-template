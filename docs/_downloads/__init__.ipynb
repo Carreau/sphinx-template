{
  "metadata": {
    "kernelspec": {
      "name": "python3",
      "display_name": "Python 3",
      "language": "python"
    },
    "language_info": {
      "codemirror_mode": {
        "name": "ipython",
        "version": 3
      },
      "pygments_lexer": "ipython3",
      "mimetype": "text/x-python",
      "name": "python",
      "version": "3.5.2",
      "file_extension": ".py",
      "nbconvert_exporter": "python"
    }
  },
  "nbformat_minor": 0,
  "cells": [
    {
      "execution_count": null,
      "metadata": {
        "collapsed": false
      },
      "source": [
        "%matplotlib inline"
      ],
      "outputs": [],
      "cell_type": "code"
    },
    {
      "metadata": {},
      "source": [
        "\nThis is the Example module, \n\nIt contains various function, plotting graphs and containing information useful\nto see how Sphinx, and Sphinx-Gallery behave when you deploy documentation.\n\n"
      ],
      "cell_type": "markdown"
    },
    {
      "execution_count": null,
      "metadata": {
        "collapsed": false
      },
      "source": [
        "# we provide version_info as a tuple, because on Major version bump, \n# alphabetical ordering may be wrong !\n# '10.0.0' < '9.0.0'\n\nversion_info = (0, 0, 5)\n__version__ = '.'.join([str(x) for x in version_info])\n\n\n\ndef add_with_saturation_bad(a, b, c=10):\n    \"\"\"\n    add_with_saturation add with saturation\n    \"\"\"\n    return min(a+b, c)"
      ],
      "outputs": [],
      "cell_type": "code"
    }
  ],
  "nbformat": 4
}
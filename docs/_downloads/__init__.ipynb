{
  "nbformat_minor": 0,
  "nbformat": 4,
  "metadata": {
    "kernelspec": {
      "name": "python3",
      "display_name": "Python 3",
      "language": "python"
    },
    "language_info": {
      "file_extension": ".py",
      "version": "3.5.2",
      "pygments_lexer": "ipython3",
      "codemirror_mode": {
        "version": 3,
        "name": "ipython"
      },
      "nbconvert_exporter": "python",
      "name": "python",
      "mimetype": "text/x-python"
    }
  },
  "cells": [
    {
      "cell_type": "code",
      "execution_count": null,
      "metadata": {
        "collapsed": false
      },
      "outputs": [],
      "source": [
        "%matplotlib inline"
      ]
    },
    {
      "cell_type": "markdown",
      "source": [
        "\nThis is the Example module, \n\nIt contains various function, plotting graphs and containing information useful\nto see how Sphinx, and Sphinx-Gallery behave when you deploy documentation.\n\n"
      ],
      "metadata": {}
    },
    {
      "cell_type": "code",
      "execution_count": null,
      "metadata": {
        "collapsed": false
      },
      "outputs": [],
      "source": [
        "# we provide version_info as a tuple, because on Major version bump, \n# alphabetical ordering may be wrong !\n# '10.0.0' < '9.0.0'\n\nversion_info = (0, 0, 5)\n__version__ = '.'.join([str(x) for x in version_info])\n\n\n\ndef add_with_saturation_bad(a, b, c=10):\n    \"\"\"\n    add_with_saturation add with saturation\n    \"\"\"\n    return min(a+b, c)"
      ]
    }
  ]
}
{
  "metadata": {
    "kernelspec": {
      "language": "python",
      "name": "python3",
      "display_name": "Python 3"
    },
    "language_info": {
      "name": "python",
      "mimetype": "text/x-python",
      "version": "3.5.2",
      "nbconvert_exporter": "python",
      "codemirror_mode": {
        "name": "ipython",
        "version": 3
      },
      "file_extension": ".py",
      "pygments_lexer": "ipython3"
    }
  },
  "nbformat_minor": 0,
  "nbformat": 4,
  "cells": [
    {
      "outputs": [],
      "cell_type": "code",
      "metadata": {
        "collapsed": false
      },
      "execution_count": null,
      "source": [
        "%matplotlib inline"
      ]
    },
    {
      "cell_type": "markdown",
      "metadata": {},
      "source": [
        "\n# The trapezoid rule\n\n\nThis demonstrates how the trapezoid rule can be used to determine\nthe area under the curve for an arbitrary function.\n\nFor more information about this, `see here <http://www.mathwords.com/t/trapezoid_rule.htm>`_\n\n\n"
      ]
    },
    {
      "outputs": [],
      "cell_type": "code",
      "metadata": {
        "collapsed": false
      },
      "execution_count": null,
      "source": [
        "# sphinx_gallery_thumbnail_number = 2\n\nimport os.path as op\nimport numpy as np\nimport matplotlib.pyplot as plt\nimport os\nimport sys\nfrom my_package.trapezoid import trapzf"
      ]
    },
    {
      "cell_type": "markdown",
      "metadata": {},
      "source": [
        "Define our function\n-------------------\n\nBelow we'll define a function that we'll integrate\n$$ 2.2a^3 + .3a^2 + 2a + .1 $$\n\n"
      ]
    },
    {
      "outputs": [],
      "cell_type": "code",
      "metadata": {
        "collapsed": false
      },
      "execution_count": null,
      "source": [
        "def my_function(a):\n    return 2.2 * a**3 + .3 * a**2 + 2 * a + .1"
      ]
    },
    {
      "cell_type": "markdown",
      "metadata": {},
      "source": [
        "Now plot the function\n---------------------\n\nUsing this function, we'll plot the function itself for a range of\npoints.\n\n"
      ]
    },
    {
      "outputs": [],
      "cell_type": "code",
      "metadata": {
        "collapsed": false
      },
      "execution_count": null,
      "source": [
        "# Show the function\nfig, ax = plt.subplots()\na = np.linspace(-5, 5, 1000)\nb = my_function(a)\nax.scatter(a, b)\nax.set_title('Inputs / Outputs')"
      ]
    },
    {
      "cell_type": "markdown",
      "metadata": {},
      "source": [
        "Finally, plot the area\n----------------------\n\nFinally we'll show how the area under the curve changes as a\nfunction of how many points we use to create the trapezoids.\n\n"
      ]
    },
    {
      "outputs": [],
      "cell_type": "code",
      "metadata": {
        "collapsed": false
      },
      "execution_count": null,
      "source": [
        "# Calculate area under the curve\nn_points_list = np.logspace(np.log10(5), np.log10(20), 100)\nareas = []\nfor n_points in n_points_list:\n    areas.append(trapzf(my_function, -5, 5, n_points))\n\n# We'll add some size and color, just to make it pretty\nfig, ax = plt.subplots()\nax.scatter(n_points_list, areas,\n           s=areas, c=areas, cmap=plt.cm.viridis)\nax.set_title('Area over n_points')\nplt.tight_layout()\nplt.show()"
      ]
    }
  ]
}